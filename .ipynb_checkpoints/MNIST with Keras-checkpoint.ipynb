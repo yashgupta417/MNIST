{
 "cells": [
  {
   "cell_type": "code",
   "execution_count": 6,
   "metadata": {},
   "outputs": [],
   "source": [
    "from keras.utils import np_utils\n",
    "from keras.datasets import mnist\n",
    "from keras.initializers import RandomNormal"
   ]
  },
  {
   "cell_type": "code",
   "execution_count": 7,
   "metadata": {},
   "outputs": [],
   "source": [
    "dataset=mnist.load_data()"
   ]
  },
  {
   "cell_type": "code",
   "execution_count": 8,
   "metadata": {},
   "outputs": [],
   "source": [
    "(X_train,y_train),(X_test,y_test)=dataset"
   ]
  },
  {
   "cell_type": "code",
   "execution_count": 9,
   "metadata": {},
   "outputs": [
    {
     "data": {
      "text/plain": [
       "(60000, 28, 28)"
      ]
     },
     "execution_count": 9,
     "metadata": {},
     "output_type": "execute_result"
    }
   ],
   "source": [
    "X_train.shape"
   ]
  },
  {
   "cell_type": "code",
   "execution_count": 10,
   "metadata": {},
   "outputs": [],
   "source": [
    "X_train=X_train.reshape(X_train.shape[0],X_train.shape[1]*X_train.shape[2])\n",
    "X_test=X_test.reshape(X_test.shape[0],X_test.shape[1]*X_test.shape[2])"
   ]
  },
  {
   "cell_type": "code",
   "execution_count": 11,
   "metadata": {},
   "outputs": [],
   "source": [
    "X_train=X_train/255\n",
    "X_test=X_test/255"
   ]
  },
  {
   "cell_type": "code",
   "execution_count": 12,
   "metadata": {},
   "outputs": [
    {
     "data": {
      "text/plain": [
       "(784,)"
      ]
     },
     "execution_count": 12,
     "metadata": {},
     "output_type": "execute_result"
    }
   ],
   "source": [
    "X_train[0].shape"
   ]
  },
  {
   "cell_type": "code",
   "execution_count": 13,
   "metadata": {},
   "outputs": [],
   "source": [
    "Y_train=np_utils.to_categorical(y_train,10)\n",
    "Y_test=np_utils.to_categorical(y_test,10)"
   ]
  },
  {
   "cell_type": "code",
   "execution_count": 14,
   "metadata": {},
   "outputs": [
    {
     "data": {
      "text/plain": [
       "array([0., 0., 0., 0., 0., 1., 0., 0., 0., 0.], dtype=float32)"
      ]
     },
     "execution_count": 14,
     "metadata": {},
     "output_type": "execute_result"
    }
   ],
   "source": [
    "Y_train[0]"
   ]
  },
  {
   "cell_type": "code",
   "execution_count": 15,
   "metadata": {},
   "outputs": [],
   "source": [
    "from keras.models import Sequential\n",
    "from keras.layers import Dense,Activation"
   ]
  },
  {
   "cell_type": "code",
   "execution_count": 16,
   "metadata": {},
   "outputs": [],
   "source": [
    "output_dim=10\n",
    "input_dim=784\n",
    "batch_size=128\n",
    "epochs=20"
   ]
  },
  {
   "cell_type": "code",
   "execution_count": 17,
   "metadata": {},
   "outputs": [],
   "source": [
    "model=Sequential()\n",
    "model.add(Dense(output_dim,input_dim=input_dim,activation='softmax'))"
   ]
  },
  {
   "cell_type": "code",
   "execution_count": 18,
   "metadata": {},
   "outputs": [],
   "source": [
    "model.compile(optimizer='sgd',loss='categorical_crossentropy',metrics=['accuracy'])"
   ]
  },
  {
   "cell_type": "code",
   "execution_count": 19,
   "metadata": {},
   "outputs": [
    {
     "name": "stdout",
     "output_type": "stream",
     "text": [
      "Train on 60000 samples, validate on 10000 samples\n",
      "Epoch 1/20\n",
      "60000/60000 [==============================] - 2s 36us/step - loss: 1.3040 - accuracy: 0.6906 - val_loss: 0.8187 - val_accuracy: 0.8275\n",
      "Epoch 2/20\n",
      "60000/60000 [==============================] - 2s 33us/step - loss: 0.7202 - accuracy: 0.8394 - val_loss: 0.6112 - val_accuracy: 0.8573\n",
      "Epoch 3/20\n",
      "60000/60000 [==============================] - 2s 29us/step - loss: 0.5891 - accuracy: 0.8585 - val_loss: 0.5277 - val_accuracy: 0.8707\n",
      "Epoch 4/20\n",
      "60000/60000 [==============================] - 2s 30us/step - loss: 0.5267 - accuracy: 0.8685 - val_loss: 0.4820 - val_accuracy: 0.8789\n",
      "Epoch 5/20\n",
      "60000/60000 [==============================] - 2s 32us/step - loss: 0.4888 - accuracy: 0.8745 - val_loss: 0.4515 - val_accuracy: 0.8849\n",
      "Epoch 6/20\n",
      "60000/60000 [==============================] - 2s 31us/step - loss: 0.4628 - accuracy: 0.8792 - val_loss: 0.4305 - val_accuracy: 0.8889\n",
      "Epoch 7/20\n",
      "60000/60000 [==============================] - 2s 29us/step - loss: 0.4435 - accuracy: 0.8834 - val_loss: 0.4141 - val_accuracy: 0.8917\n",
      "Epoch 8/20\n",
      "60000/60000 [==============================] - 2s 33us/step - loss: 0.4286 - accuracy: 0.8855 - val_loss: 0.4014 - val_accuracy: 0.8946\n",
      "Epoch 9/20\n",
      "60000/60000 [==============================] - 2s 29us/step - loss: 0.4165 - accuracy: 0.8883 - val_loss: 0.3909 - val_accuracy: 0.8975\n",
      "Epoch 10/20\n",
      "60000/60000 [==============================] - 2s 30us/step - loss: 0.4064 - accuracy: 0.8902 - val_loss: 0.3823 - val_accuracy: 0.8997\n",
      "Epoch 11/20\n",
      "60000/60000 [==============================] - 2s 35us/step - loss: 0.3980 - accuracy: 0.8925 - val_loss: 0.3748 - val_accuracy: 0.9014\n",
      "Epoch 12/20\n",
      "60000/60000 [==============================] - 2s 29us/step - loss: 0.3906 - accuracy: 0.8943 - val_loss: 0.3685 - val_accuracy: 0.9024\n",
      "Epoch 13/20\n",
      "60000/60000 [==============================] - 2s 31us/step - loss: 0.3842 - accuracy: 0.8957 - val_loss: 0.3631 - val_accuracy: 0.9024\n",
      "Epoch 14/20\n",
      "60000/60000 [==============================] - 2s 30us/step - loss: 0.3787 - accuracy: 0.8969 - val_loss: 0.3577 - val_accuracy: 0.9032\n",
      "Epoch 15/20\n",
      "60000/60000 [==============================] - 2s 32us/step - loss: 0.3735 - accuracy: 0.8981 - val_loss: 0.3535 - val_accuracy: 0.9044\n",
      "Epoch 16/20\n",
      "60000/60000 [==============================] - 2s 31us/step - loss: 0.3691 - accuracy: 0.8991 - val_loss: 0.3493 - val_accuracy: 0.9054\n",
      "Epoch 17/20\n",
      "60000/60000 [==============================] - 2s 29us/step - loss: 0.3650 - accuracy: 0.9001 - val_loss: 0.3459 - val_accuracy: 0.9055\n",
      "Epoch 18/20\n",
      "60000/60000 [==============================] - 2s 31us/step - loss: 0.3612 - accuracy: 0.9007 - val_loss: 0.3426 - val_accuracy: 0.9068\n",
      "Epoch 19/20\n",
      "60000/60000 [==============================] - 2s 29us/step - loss: 0.3578 - accuracy: 0.9015 - val_loss: 0.3397 - val_accuracy: 0.9080\n",
      "Epoch 20/20\n",
      "60000/60000 [==============================] - 2s 30us/step - loss: 0.3546 - accuracy: 0.9026 - val_loss: 0.3371 - val_accuracy: 0.9081\n"
     ]
    }
   ],
   "source": [
    "history=model.fit(X_train,Y_train,batch_size=batch_size,epochs=epochs,validation_data=(X_test,Y_test))"
   ]
  },
  {
   "cell_type": "code",
   "execution_count": 20,
   "metadata": {},
   "outputs": [
    {
     "name": "stdout",
     "output_type": "stream",
     "text": [
      "10000/10000 [==============================] - 0s 35us/step\n",
      "Score 0.33707670838832854\n",
      "Accuracy 0.9081000089645386\n"
     ]
    }
   ],
   "source": [
    "pred=model.evaluate(X_test,Y_test)\n",
    "print(\"Score\",pred[0])\n",
    "print(\"Accuracy\",pred[1])"
   ]
  },
  {
   "cell_type": "code",
   "execution_count": 22,
   "metadata": {},
   "outputs": [
    {
     "data": {
      "image/png": "[encoded data removed]",
      "text/plain": [
       "<Figure size 432x288 with 1 Axes>"
      ]
     },
     "metadata": {
      "needs_background": "light"
     },
     "output_type": "display_data"
    }
   ],
   "source": [
    "import matplotlib.pyplot as plt\n",
    "fig,ax=plt.subplots(1,1)\n",
    "ax.set_xlabel('epoch')\n",
    "ax.set_ylabel('loss')\n",
    "\n",
    "x=list(range(1,epochs+1))\n",
    "\n",
    "vy=history.history['val_loss']\n",
    "ty=history.history['loss']\n",
    "\n",
    "def plt_dynamic(x,y,y_1,ax,colors=['b']):\n",
    "    ax.plot(x,y,'b',label='Train loss')\n",
    "    ax.plot(x,y_1,'r',label='Test loss')\n",
    "    if len(x)==1:\n",
    "        plt.legend()\n",
    "    fig.canvas.draw()\n",
    "plt_dynamic(x,vy,ty,ax)"
   ]
  },
  {
   "cell_type": "code",
   "execution_count": 23,
   "metadata": {},
   "outputs": [
    {
     "name": "stdout",
     "output_type": "stream",
     "text": [
      "Model: \"sequential_2\"\n",
      "_________________________________________________________________\n",
      "Layer (type)                 Output Shape              Param #   \n",
      "=================================================================\n",
      "dense_2 (Dense)              (None, 512)               401920    \n",
      "_________________________________________________________________\n",
      "batch_normalization_1 (Batch (None, 512)               2048      \n",
      "_________________________________________________________________\n",
      "dropout_1 (Dropout)          (None, 512)               0         \n",
      "_________________________________________________________________\n",
      "dense_3 (Dense)              (None, 128)               65664     \n",
      "_________________________________________________________________\n",
      "batch_normalization_2 (Batch (None, 128)               512       \n",
      "_________________________________________________________________\n",
      "dropout_2 (Dropout)          (None, 128)               0         \n",
      "_________________________________________________________________\n",
      "dense_4 (Dense)              (None, 10)                1290      \n",
      "=================================================================\n",
      "Total params: 471,434\n",
      "Trainable params: 470,154\n",
      "Non-trainable params: 1,280\n",
      "_________________________________________________________________\n"
     ]
    }
   ],
   "source": [
    "#Multilayer Perceptron\n",
    "from keras.layers import BatchNormalization , Dropout \n",
    "model2=Sequential()\n",
    "model2.add(Dense(512,activation='sigmoid',input_shape=(input_dim,)))#we can initialize weights as well using kernel_initialization\n",
    "model2.add(BatchNormalization())\n",
    "model2.add(Dropout(0.5))\n",
    "\n",
    "model2.add(Dense(128,activation='sigmoid'))\n",
    "model2.add(BatchNormalization())\n",
    "model2.add(Dropout(0.5))\n",
    "\n",
    "model2.add(Dense(output_dim,activation='softmax'))\n",
    "\n",
    "model2.summary()"
   ]
  },
  {
   "cell_type": "code",
   "execution_count": 24,
   "metadata": {},
   "outputs": [],
   "source": [
    "model2.compile(optimizer='adam',loss='categorical_crossentropy',metrics=['accuracy'])"
   ]
  },
  {
   "cell_type": "code",
   "execution_count": 25,
   "metadata": {},
   "outputs": [
    {
     "name": "stdout",
     "output_type": "stream",
     "text": [
      "Train on 60000 samples, validate on 10000 samples\n",
      "Epoch 1/20\n",
      "60000/60000 [==============================] - 11s 189us/step - loss: 0.4814 - accuracy: 0.8569 - val_loss: 0.2524 - val_accuracy: 0.9298\n",
      "Epoch 2/20\n",
      "60000/60000 [==============================] - 11s 177us/step - loss: 0.3236 - accuracy: 0.9037 - val_loss: 0.2136 - val_accuracy: 0.9359\n",
      "Epoch 3/20\n",
      "60000/60000 [==============================] - 11s 175us/step - loss: 0.2869 - accuracy: 0.9139 - val_loss: 0.1847 - val_accuracy: 0.9440\n",
      "Epoch 4/20\n",
      "60000/60000 [==============================] - 10s 173us/step - loss: 0.2565 - accuracy: 0.9225 - val_loss: 0.1680 - val_accuracy: 0.9501\n",
      "Epoch 5/20\n",
      "60000/60000 [==============================] - 10s 174us/step - loss: 0.2371 - accuracy: 0.9296 - val_loss: 0.1490 - val_accuracy: 0.9536\n",
      "Epoch 6/20\n",
      "60000/60000 [==============================] - 11s 178us/step - loss: 0.2145 - accuracy: 0.9347 - val_loss: 0.1330 - val_accuracy: 0.9595\n",
      "Epoch 7/20\n",
      "60000/60000 [==============================] - 11s 177us/step - loss: 0.1933 - accuracy: 0.9420 - val_loss: 0.1212 - val_accuracy: 0.9634\n",
      "Epoch 8/20\n",
      "60000/60000 [==============================] - 11s 175us/step - loss: 0.1798 - accuracy: 0.9455 - val_loss: 0.1093 - val_accuracy: 0.9673\n",
      "Epoch 9/20\n",
      "60000/60000 [==============================] - 11s 175us/step - loss: 0.1661 - accuracy: 0.9497 - val_loss: 0.1045 - val_accuracy: 0.9690\n",
      "Epoch 10/20\n",
      "60000/60000 [==============================] - 10s 166us/step - loss: 0.1501 - accuracy: 0.9543 - val_loss: 0.0999 - val_accuracy: 0.9683\n",
      "Epoch 11/20\n",
      "60000/60000 [==============================] - 11s 176us/step - loss: 0.1414 - accuracy: 0.9568 - val_loss: 0.0857 - val_accuracy: 0.9731\n",
      "Epoch 12/20\n",
      "60000/60000 [==============================] - 10s 168us/step - loss: 0.1299 - accuracy: 0.9608 - val_loss: 0.0841 - val_accuracy: 0.9747\n",
      "Epoch 13/20\n",
      "60000/60000 [==============================] - 10s 168us/step - loss: 0.1244 - accuracy: 0.9620 - val_loss: 0.0767 - val_accuracy: 0.9768\n",
      "Epoch 14/20\n",
      "60000/60000 [==============================] - 10s 170us/step - loss: 0.1156 - accuracy: 0.9639 - val_loss: 0.0779 - val_accuracy: 0.9758\n",
      "Epoch 15/20\n",
      "60000/60000 [==============================] - 10s 170us/step - loss: 0.1108 - accuracy: 0.9657 - val_loss: 0.0714 - val_accuracy: 0.9782\n",
      "Epoch 16/20\n",
      "60000/60000 [==============================] - 10s 173us/step - loss: 0.1057 - accuracy: 0.9681 - val_loss: 0.0738 - val_accuracy: 0.9777\n",
      "Epoch 17/20\n",
      "60000/60000 [==============================] - 10s 172us/step - loss: 0.1010 - accuracy: 0.9691 - val_loss: 0.0677 - val_accuracy: 0.9786\n",
      "Epoch 18/20\n",
      "60000/60000 [==============================] - 11s 178us/step - loss: 0.0986 - accuracy: 0.9699 - val_loss: 0.0661 - val_accuracy: 0.9805\n",
      "Epoch 19/20\n",
      "60000/60000 [==============================] - 10s 174us/step - loss: 0.0920 - accuracy: 0.9714 - val_loss: 0.0682 - val_accuracy: 0.9795\n",
      "Epoch 20/20\n",
      "60000/60000 [==============================] - 10s 173us/step - loss: 0.0886 - accuracy: 0.9720 - val_loss: 0.0642 - val_accuracy: 0.9807\n"
     ]
    }
   ],
   "source": [
    "history2=model2.fit(X_train,Y_train,batch_size=batch_size,epochs=epochs,validation_data=(X_test,Y_test))"
   ]
  },
  {
   "cell_type": "code",
   "execution_count": 26,
   "metadata": {},
   "outputs": [
    {
     "name": "stdout",
     "output_type": "stream",
     "text": [
      "10000/10000 [==============================] - 1s 84us/step\n",
      "Score 0.06419955216222442\n",
      "Accuracy 0.9807000160217285\n"
     ]
    }
   ],
   "source": [
    "pred2=model2.evaluate(X_test,Y_test)\n",
    "print(\"Score\",pred2[0])\n",
    "print(\"Accuracy\",pred2[1])"
   ]
  },
  {
   "cell_type": "code",
   "execution_count": 27,
   "metadata": {},
   "outputs": [
    {
     "data": {
      "image/png": "[encoded data removed]",
      "text/plain": [
       "<Figure size 432x288 with 1 Axes>"
      ]
     },
     "metadata": {
      "needs_background": "light"
     },
     "output_type": "display_data"
    }
   ],
   "source": [
    "fig,ax=plt.subplots(1,1)\n",
    "ax.set_xlabel('epoch')\n",
    "ax.set_ylabel('loss')\n",
    "\n",
    "x=list(range(1,epochs+1))\n",
    "\n",
    "vy=history2.history['val_loss']\n",
    "ty=history2.history['loss']\n",
    "\n",
    "plt_dynamic(x,vy,ty,ax)"
   ]
  },
  {
   "cell_type": "code",
   "execution_count": 28,
   "metadata": {},
   "outputs": [],
   "source": [
    "weights=model2.get_weights()"
   ]
  },
  {
   "cell_type": "code",
   "execution_count": 29,
   "metadata": {},
   "outputs": [
    {
     "name": "stdout",
     "output_type": "stream",
     "text": [
      "(784, 512)\n",
      "(512,)\n",
      "(512,)\n"
     ]
    }
   ],
   "source": [
    "print(weights[0].shape)\n",
    "print(weights[2].shape)\n",
    "print(weights[4].shape)"
   ]
  },
  {
   "cell_type": "code",
   "execution_count": 34,
   "metadata": {},
   "outputs": [],
   "source": [
    "def tune_hyperparameters(activ):\n",
    "    m=Sequential()\n",
    "    m.add(Dense(512,activation=activ,input_shape=(input_dim,)))#we can initialize weights as well using kernel_initialization\n",
    "    m.add(BatchNormalization())\n",
    "    m.add(Dropout(0.5))\n",
    "    m.add(Dense(128,activation=activ))\n",
    "    m.add(BatchNormalization())\n",
    "    m.add(Dropout(0.5))\n",
    "    m.add(Dense(output_dim,activation='softmax'))\n",
    "    m.compile(optimizer='adam',loss='categorical_crossentropy',metrics=['accuracy'])\n",
    "    return m\n",
    "    "
   ]
  },
  {
   "cell_type": "code",
   "execution_count": 37,
   "metadata": {},
   "outputs": [],
   "source": [
    "activ=['sigmoid','relu']\n",
    "\n",
    "from keras.wrappers.scikit_learn import KerasClassifier\n",
    "from sklearn.model_selection import GridSearchCV\n",
    "\n",
    "m=KerasClassifier(build_fn=tune_hyperparameters,epochs=epochs,batch_size=batch_size,verbose=0)\n",
    "\n",
    "grid=GridSearchCV(estimator=m,param_grid={'activ':activ},n_jobs=-1,cv=3)\n",
    "grid_result=grid.fit(X_train[:1000],Y_train[:1000])"
   ]
  },
  {
   "cell_type": "code",
   "execution_count": 41,
   "metadata": {},
   "outputs": [
    {
     "name": "stdout",
     "output_type": "stream",
     "text": [
      "0.8510000109672546   {'activ': 'relu'}\n"
     ]
    }
   ],
   "source": [
    "print(grid_result.best_score_,\" \",grid_result.best_params_)"
   ]
  },
  {
   "cell_type": "code",
   "execution_count": 44,
   "metadata": {},
   "outputs": [
    {
     "data": {
      "text/plain": [
       "array([0.77200001, 0.85100001])"
      ]
     },
     "execution_count": 44,
     "metadata": {},
     "output_type": "execute_result"
    }
   ],
   "source": [
    "grid_result.cv_results_['mean_test_score']"
   ]
  },
  {
   "cell_type": "code",
   "execution_count": null,
   "metadata": {},
   "outputs": [],
   "source": []
  }
 ],
 "metadata": {
  "kernelspec": {
   "display_name": "Python 3",
   "language": "python",
   "name": "python3"
  },
  "language_info": {
   "codemirror_mode": {
    "name": "ipython",
    "version": 3
   },
   "file_extension": ".py",
   "mimetype": "text/x-python",
   "name": "python",
   "nbconvert_exporter": "python",
   "pygments_lexer": "ipython3",
   "version": "3.7.3"
  }
 },
 "nbformat": 4,
 "nbformat_minor": 2
}
