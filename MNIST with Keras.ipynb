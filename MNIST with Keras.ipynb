{
 "cells": [
  {
   "cell_type": "code",
   "execution_count": 3,
   "metadata": {},
   "outputs": [],
   "source": [
    "from keras.utils import np_utils\n",
    "from keras.datasets import mnist\n",
    "from keras.initializers import RandomNormal"
   ]
  },
  {
   "cell_type": "code",
   "execution_count": 6,
   "metadata": {},
   "outputs": [],
   "source": [
    "dataset=mnist.load_data()"
   ]
  },
  {
   "cell_type": "code",
   "execution_count": 37,
   "metadata": {},
   "outputs": [],
   "source": [
    "(X_train,y_train),(X_test,y_test)=dataset"
   ]
  },
  {
   "cell_type": "code",
   "execution_count": 38,
   "metadata": {},
   "outputs": [
    {
     "data": {
      "text/plain": [
       "(60000, 28, 28)"
      ]
     },
     "execution_count": 38,
     "metadata": {},
     "output_type": "execute_result"
    }
   ],
   "source": [
    "X_train.shape"
   ]
  },
  {
   "cell_type": "code",
   "execution_count": 39,
   "metadata": {},
   "outputs": [],
   "source": [
    "X_train=X_train.reshape(X_train.shape[0],X_train.shape[1]*X_train.shape[2])\n",
    "X_test=X_test.reshape(X_test.shape[0],X_test.shape[1]*X_test.shape[2])"
   ]
  },
  {
   "cell_type": "code",
   "execution_count": 62,
   "metadata": {},
   "outputs": [],
   "source": [
    "X_train=X_train/255\n",
    "X_test=X_test/255"
   ]
  },
  {
   "cell_type": "code",
   "execution_count": 64,
   "metadata": {},
   "outputs": [
    {
     "data": {
      "text/plain": [
       "(784,)"
      ]
     },
     "execution_count": 64,
     "metadata": {},
     "output_type": "execute_result"
    }
   ],
   "source": [
    "X_train[0].shape"
   ]
  },
  {
   "cell_type": "code",
   "execution_count": 65,
   "metadata": {},
   "outputs": [],
   "source": [
    "Y_train=np_utils.to_categorical(y_train,10)\n",
    "Y_test=np_utils.to_categorical(y_test,10)"
   ]
  },
  {
   "cell_type": "code",
   "execution_count": 66,
   "metadata": {},
   "outputs": [
    {
     "data": {
      "text/plain": [
       "array([0., 0., 0., 0., 0., 1., 0., 0., 0., 0.], dtype=float32)"
      ]
     },
     "execution_count": 66,
     "metadata": {},
     "output_type": "execute_result"
    }
   ],
   "source": [
    "Y_train[0]"
   ]
  },
  {
   "cell_type": "code",
   "execution_count": 67,
   "metadata": {},
   "outputs": [],
   "source": [
    "from keras.models import Sequential\n",
    "from keras.layers import Dense,Activation"
   ]
  },
  {
   "cell_type": "code",
   "execution_count": 68,
   "metadata": {},
   "outputs": [],
   "source": [
    "output_dim=10\n",
    "input_dim=784\n",
    "batch_size=128\n",
    "epochs=20"
   ]
  },
  {
   "cell_type": "code",
   "execution_count": 69,
   "metadata": {},
   "outputs": [],
   "source": [
    "model=Sequential()\n",
    "model.add(Dense(output_dim,input_dim=input_dim,activation='softmax'))"
   ]
  },
  {
   "cell_type": "code",
   "execution_count": 70,
   "metadata": {},
   "outputs": [],
   "source": [
    "model.compile(optimizer='sgd',loss='categorical_crossentropy',metrics=['accuracy'])"
   ]
  },
  {
   "cell_type": "code",
   "execution_count": 71,
   "metadata": {},
   "outputs": [
    {
     "name": "stdout",
     "output_type": "stream",
     "text": [
      "Train on 60000 samples, validate on 10000 samples\n",
      "Epoch 1/20\n",
      "60000/60000 [==============================] - 1s 18us/step - loss: 1.2990 - accuracy: 0.6913 - val_loss: 0.8155 - val_accuracy: 0.8369\n",
      "Epoch 2/20\n",
      "60000/60000 [==============================] - 1s 16us/step - loss: 0.7184 - accuracy: 0.8418 - val_loss: 0.6073 - val_accuracy: 0.8641\n",
      "Epoch 3/20\n",
      "60000/60000 [==============================] - 1s 18us/step - loss: 0.5876 - accuracy: 0.8601 - val_loss: 0.5250 - val_accuracy: 0.8760\n",
      "Epoch 4/20\n",
      "60000/60000 [==============================] - 1s 21us/step - loss: 0.5255 - accuracy: 0.8690 - val_loss: 0.4795 - val_accuracy: 0.8808\n",
      "Epoch 5/20\n",
      "60000/60000 [==============================] - 1s 20us/step - loss: 0.4878 - accuracy: 0.8757 - val_loss: 0.4498 - val_accuracy: 0.8864\n",
      "Epoch 6/20\n",
      "60000/60000 [==============================] - 1s 19us/step - loss: 0.4620 - accuracy: 0.8802 - val_loss: 0.4285 - val_accuracy: 0.8911\n",
      "Epoch 7/20\n",
      "60000/60000 [==============================] - 1s 21us/step - loss: 0.4429 - accuracy: 0.8836 - val_loss: 0.4123 - val_accuracy: 0.8931\n",
      "Epoch 8/20\n",
      "60000/60000 [==============================] - 1s 20us/step - loss: 0.4280 - accuracy: 0.8862 - val_loss: 0.3997 - val_accuracy: 0.8953\n",
      "Epoch 9/20\n",
      "60000/60000 [==============================] - 1s 21us/step - loss: 0.4160 - accuracy: 0.8886 - val_loss: 0.3894 - val_accuracy: 0.8978\n",
      "Epoch 10/20\n",
      "60000/60000 [==============================] - 1s 18us/step - loss: 0.4061 - accuracy: 0.8913 - val_loss: 0.3806 - val_accuracy: 0.8996\n",
      "Epoch 11/20\n",
      "60000/60000 [==============================] - 1s 19us/step - loss: 0.3976 - accuracy: 0.8925 - val_loss: 0.3733 - val_accuracy: 0.9008\n",
      "Epoch 12/20\n",
      "60000/60000 [==============================] - 1s 19us/step - loss: 0.3904 - accuracy: 0.8942 - val_loss: 0.3671 - val_accuracy: 0.9031\n",
      "Epoch 13/20\n",
      "60000/60000 [==============================] - 1s 19us/step - loss: 0.3840 - accuracy: 0.8955 - val_loss: 0.3613 - val_accuracy: 0.9042\n",
      "Epoch 14/20\n",
      "60000/60000 [==============================] - 1s 20us/step - loss: 0.3785 - accuracy: 0.8964 - val_loss: 0.3564 - val_accuracy: 0.9048\n",
      "Epoch 15/20\n",
      "60000/60000 [==============================] - 1s 18us/step - loss: 0.3734 - accuracy: 0.8980 - val_loss: 0.3521 - val_accuracy: 0.9061\n",
      "Epoch 16/20\n",
      "60000/60000 [==============================] - 1s 20us/step - loss: 0.3689 - accuracy: 0.8993 - val_loss: 0.3483 - val_accuracy: 0.9064\n",
      "Epoch 17/20\n",
      "60000/60000 [==============================] - 1s 19us/step - loss: 0.3648 - accuracy: 0.8999 - val_loss: 0.3448 - val_accuracy: 0.9083\n",
      "Epoch 18/20\n",
      "60000/60000 [==============================] - 1s 18us/step - loss: 0.3611 - accuracy: 0.9008 - val_loss: 0.3414 - val_accuracy: 0.9087\n",
      "Epoch 19/20\n",
      "60000/60000 [==============================] - 1s 21us/step - loss: 0.3577 - accuracy: 0.9017 - val_loss: 0.3384 - val_accuracy: 0.9091\n",
      "Epoch 20/20\n",
      "60000/60000 [==============================] - 1s 18us/step - loss: 0.3545 - accuracy: 0.9027 - val_loss: 0.3358 - val_accuracy: 0.9101\n"
     ]
    }
   ],
   "source": [
    "history=model.fit(X_train,Y_train,batch_size=batch_size,epochs=epochs,validation_data=(X_test,Y_test))"
   ]
  },
  {
   "cell_type": "code",
   "execution_count": 72,
   "metadata": {},
   "outputs": [
    {
     "name": "stdout",
     "output_type": "stream",
     "text": [
      "10000/10000 [==============================] - 0s 27us/step\n",
      "Score 0.3358439813256264\n",
      "Accuracy 0.910099983215332\n"
     ]
    }
   ],
   "source": [
    "pred=model.evaluate(X_test,Y_test)\n",
    "print(\"Score\",pred[0])\n",
    "print(\"Accuracy\",pred[1])"
   ]
  },
  {
   "cell_type": "code",
   "execution_count": 75,
   "metadata": {},
   "outputs": [
    {
     "data": {
      "image/png": "[encoded data removed]",
      "text/plain": [
       "<Figure size 432x288 with 1 Axes>"
      ]
     },
     "metadata": {
      "needs_background": "light"
     },
     "output_type": "display_data"
    }
   ],
   "source": [
    "import matplotlib.pyplot as plt\n",
    "fig,ax=plt.subplots(1,1)\n",
    "ax.set_xlabel('epoch')\n",
    "ax.set_ylabel('loss')\n",
    "\n",
    "x=list(range(1,epochs+1))\n",
    "\n",
    "vy=history.history['val_loss']\n",
    "ty=history.history['loss']\n",
    "\n",
    "def plt_dynamic(x,y,y_1,ax,colors=['b']):\n",
    "    ax.plot(x,y,'b',label='Train loss')\n",
    "    ax.plot(x,y_1,'r',label='Test loss')\n",
    "    if len(x)==1:\n",
    "        plt.legend()\n",
    "    fig.canvas.draw()\n",
    "plt_dynamic(x,vy,ty,ax)"
   ]
  },
  {
   "cell_type": "code",
   "execution_count": 97,
   "metadata": {},
   "outputs": [
    {
     "name": "stdout",
     "output_type": "stream",
     "text": [
      "Model: \"sequential_10\"\n",
      "_________________________________________________________________\n",
      "Layer (type)                 Output Shape              Param #   \n",
      "=================================================================\n",
      "dense_10 (Dense)             (None, 512)               401920    \n",
      "_________________________________________________________________\n",
      "batch_normalization_1 (Batch (None, 512)               2048      \n",
      "_________________________________________________________________\n",
      "dropout_1 (Dropout)          (None, 512)               0         \n",
      "_________________________________________________________________\n",
      "dense_11 (Dense)             (None, 128)               65664     \n",
      "_________________________________________________________________\n",
      "batch_normalization_2 (Batch (None, 128)               512       \n",
      "_________________________________________________________________\n",
      "dropout_2 (Dropout)          (None, 128)               0         \n",
      "_________________________________________________________________\n",
      "dense_12 (Dense)             (None, 10)                1290      \n",
      "=================================================================\n",
      "Total params: 471,434\n",
      "Trainable params: 470,154\n",
      "Non-trainable params: 1,280\n",
      "_________________________________________________________________\n"
     ]
    }
   ],
   "source": [
    "#Multilayer Perceptron\n",
    "from keras.layers import BatchNormalization , Dropout \n",
    "model2=Sequential()\n",
    "model2.add(Dense(512,activation='sigmoid',input_shape=(input_dim,)))#we can initialize weights as well using kernel_initialization\n",
    "model2.add(BatchNormalization())\n",
    "model2.add(Dropout(0.5))\n",
    "\n",
    "model2.add(Dense(128,activation='sigmoid'))\n",
    "model2.add(BatchNormalization())\n",
    "model2.add(Dropout(0.5))\n",
    "\n",
    "model2.add(Dense(output_dim,activation='softmax'))\n",
    "\n",
    "model2.summary()"
   ]
  },
  {
   "cell_type": "code",
   "execution_count": 98,
   "metadata": {},
   "outputs": [],
   "source": [
    "model2.compile(optimizer='adam',loss='categorical_crossentropy',metrics=['accuracy'])"
   ]
  },
  {
   "cell_type": "code",
   "execution_count": 99,
   "metadata": {},
   "outputs": [
    {
     "name": "stdout",
     "output_type": "stream",
     "text": [
      "Train on 60000 samples, validate on 10000 samples\n",
      "Epoch 1/20\n",
      "60000/60000 [==============================] - 8s 130us/step - loss: 0.4852 - accuracy: 0.8548 - val_loss: 0.2551 - val_accuracy: 0.9257\n",
      "Epoch 2/20\n",
      "60000/60000 [==============================] - 8s 126us/step - loss: 0.3261 - accuracy: 0.9028 - val_loss: 0.2217 - val_accuracy: 0.9338\n",
      "Epoch 3/20\n",
      "60000/60000 [==============================] - 8s 128us/step - loss: 0.2887 - accuracy: 0.9133 - val_loss: 0.1993 - val_accuracy: 0.9409\n",
      "Epoch 4/20\n",
      "60000/60000 [==============================] - 8s 128us/step - loss: 0.2627 - accuracy: 0.9204 - val_loss: 0.1739 - val_accuracy: 0.9489\n",
      "Epoch 5/20\n",
      "60000/60000 [==============================] - 8s 129us/step - loss: 0.2391 - accuracy: 0.9281 - val_loss: 0.1581 - val_accuracy: 0.9512\n",
      "Epoch 6/20\n",
      "60000/60000 [==============================] - 8s 130us/step - loss: 0.2180 - accuracy: 0.9337 - val_loss: 0.1391 - val_accuracy: 0.9569\n",
      "Epoch 7/20\n",
      "60000/60000 [==============================] - 8s 128us/step - loss: 0.1987 - accuracy: 0.9402 - val_loss: 0.1244 - val_accuracy: 0.9624\n",
      "Epoch 8/20\n",
      "60000/60000 [==============================] - 8s 130us/step - loss: 0.1807 - accuracy: 0.9456 - val_loss: 0.1133 - val_accuracy: 0.9656\n",
      "Epoch 9/20\n",
      "60000/60000 [==============================] - 8s 127us/step - loss: 0.1656 - accuracy: 0.9501 - val_loss: 0.1047 - val_accuracy: 0.9680\n",
      "Epoch 10/20\n",
      "60000/60000 [==============================] - 8s 128us/step - loss: 0.1548 - accuracy: 0.9527 - val_loss: 0.0973 - val_accuracy: 0.9709\n",
      "Epoch 11/20\n",
      "60000/60000 [==============================] - 8s 128us/step - loss: 0.1429 - accuracy: 0.9570 - val_loss: 0.0894 - val_accuracy: 0.9717\n",
      "Epoch 12/20\n",
      "60000/60000 [==============================] - 8s 132us/step - loss: 0.1333 - accuracy: 0.9592 - val_loss: 0.0825 - val_accuracy: 0.9746\n",
      "Epoch 13/20\n",
      "60000/60000 [==============================] - 8s 128us/step - loss: 0.1204 - accuracy: 0.9631 - val_loss: 0.0819 - val_accuracy: 0.9745\n",
      "Epoch 14/20\n",
      "60000/60000 [==============================] - 8s 129us/step - loss: 0.1183 - accuracy: 0.9638 - val_loss: 0.0767 - val_accuracy: 0.9768\n",
      "Epoch 15/20\n",
      "60000/60000 [==============================] - 8s 134us/step - loss: 0.1088 - accuracy: 0.9658 - val_loss: 0.0731 - val_accuracy: 0.9785\n",
      "Epoch 16/20\n",
      "60000/60000 [==============================] - 8s 132us/step - loss: 0.1028 - accuracy: 0.9682 - val_loss: 0.0688 - val_accuracy: 0.9791\n",
      "Epoch 17/20\n",
      "60000/60000 [==============================] - 8s 130us/step - loss: 0.0987 - accuracy: 0.9697 - val_loss: 0.0674 - val_accuracy: 0.9790\n",
      "Epoch 18/20\n",
      "60000/60000 [==============================] - 8s 130us/step - loss: 0.0945 - accuracy: 0.9712 - val_loss: 0.0659 - val_accuracy: 0.9800\n",
      "Epoch 19/20\n",
      "60000/60000 [==============================] - 8s 130us/step - loss: 0.0875 - accuracy: 0.9732 - val_loss: 0.0651 - val_accuracy: 0.9814\n",
      "Epoch 20/20\n",
      "60000/60000 [==============================] - 8s 127us/step - loss: 0.0834 - accuracy: 0.9743 - val_loss: 0.0617 - val_accuracy: 0.9816\n"
     ]
    }
   ],
   "source": [
    "history2=model2.fit(X_train,Y_train,batch_size=batch_size,epochs=epochs,validation_data=(X_test,Y_test))"
   ]
  },
  {
   "cell_type": "code",
   "execution_count": 100,
   "metadata": {},
   "outputs": [
    {
     "name": "stdout",
     "output_type": "stream",
     "text": [
      "10000/10000 [==============================] - 1s 53us/step\n",
      "Score 0.06168250770899467\n",
      "Accuracy 0.9815999865531921\n"
     ]
    }
   ],
   "source": [
    "pred2=model2.evaluate(X_test,Y_test)\n",
    "print(\"Score\",pred2[0])\n",
    "print(\"Accuracy\",pred2[1])"
   ]
  },
  {
   "cell_type": "code",
   "execution_count": 101,
   "metadata": {},
   "outputs": [
    {
     "data": {
      "image/png": "[encoded data removed]",
      "text/plain": [
       "<Figure size 432x288 with 1 Axes>"
      ]
     },
     "metadata": {
      "needs_background": "light"
     },
     "output_type": "display_data"
    }
   ],
   "source": [
    "fig,ax=plt.subplots(1,1)\n",
    "ax.set_xlabel('epoch')\n",
    "ax.set_ylabel('loss')\n",
    "\n",
    "x=list(range(1,epochs+1))\n",
    "\n",
    "vy=history2.history['val_loss']\n",
    "ty=history2.history['loss']\n",
    "\n",
    "plt_dynamic(x,vy,ty,ax)"
   ]
  },
  {
   "cell_type": "code",
   "execution_count": 102,
   "metadata": {},
   "outputs": [],
   "source": [
    "weights=model2.get_weights()"
   ]
  },
  {
   "cell_type": "code",
   "execution_count": 103,
   "metadata": {},
   "outputs": [
    {
     "name": "stdout",
     "output_type": "stream",
     "text": [
      "(784, 512)\n",
      "(512,)\n",
      "(512,)\n"
     ]
    }
   ],
   "source": [
    "print(weights[0].shape)\n",
    "print(weights[2].shape)\n",
    "print(weights[4].shape)"
   ]
  },
  {
   "cell_type": "code",
   "execution_count": null,
   "metadata": {},
   "outputs": [],
   "source": []
  }
 ],
 "metadata": {
  "kernelspec": {
   "display_name": "Python 3",
   "language": "python",
   "name": "python3"
  },
  "language_info": {
   "codemirror_mode": {
    "name": "ipython",
    "version": 3
   },
   "file_extension": ".py",
   "mimetype": "text/x-python",
   "name": "python",
   "nbconvert_exporter": "python",
   "pygments_lexer": "ipython3",
   "version": "3.7.3"
  }
 },
 "nbformat": 4,
 "nbformat_minor": 2
}
