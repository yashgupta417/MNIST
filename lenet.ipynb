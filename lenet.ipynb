{
 "cells": [
  {
   "cell_type": "code",
   "execution_count": 1,
   "metadata": {},
   "outputs": [
    {
     "name": "stderr",
     "output_type": "stream",
     "text": [
      "Using TensorFlow backend.\n"
     ]
    }
   ],
   "source": [
    "from keras.utils import np_utils\n",
    "from keras.datasets import mnist"
   ]
  },
  {
   "cell_type": "code",
   "execution_count": 2,
   "metadata": {},
   "outputs": [],
   "source": [
    "dataset=mnist.load_data()"
   ]
  },
  {
   "cell_type": "code",
   "execution_count": 64,
   "metadata": {},
   "outputs": [
    {
     "name": "stdout",
     "output_type": "stream",
     "text": [
      "(60000, 28, 28, 1)\n",
      "(60000, 10)\n"
     ]
    }
   ],
   "source": [
    "(X_train,y_train),(X_test,y_test)=dataset\n",
    "\n",
    "X_train=X_train.reshape(X_train.shape[0],X_train.shape[1],X_train.shape[2],1)\n",
    "X_test=X_test.reshape(X_test.shape[0],X_test.shape[1],X_test.shape[2],1)\n",
    "\n",
    "X_train=X_train/255\n",
    "X_test=X_test/255\n",
    "\n",
    "Y_train=np_utils.to_categorical(y_train,10)\n",
    "Y_test=np_utils.to_categorical(y_test,10)\n",
    "\n",
    "print(X_train.shape)\n",
    "print(Y_train.shape)"
   ]
  },
  {
   "cell_type": "code",
   "execution_count": 65,
   "metadata": {},
   "outputs": [],
   "source": [
    "from keras.models import Sequential\n",
    "from keras.layers import Dense,Flatten\n",
    "from keras.layers.convolutional import Conv2D,MaxPooling2D"
   ]
  },
  {
   "cell_type": "code",
   "execution_count": 66,
   "metadata": {},
   "outputs": [],
   "source": [
    "width=28\n",
    "height=28\n",
    "batch_size=256\n",
    "epochs=20\n",
    "model=Sequential()\n",
    "#Conv Layer-1\n",
    "model.add(Conv2D(6,kernel_size=5,input_shape=(width,height,1),data_format='channels_last',padding='same',activation='relu'))\n",
    "\n",
    "#Max Pool Layer-1\n",
    "model.add(MaxPooling2D(pool_size=(2,2),strides=(2,2)))\n",
    "\n",
    "#Conv Layer-2\n",
    "model.add(Conv2D(16,kernel_size=5,activation='relu'))\n",
    "\n",
    "#Max Pool Layer-2\n",
    "model.add(MaxPooling2D(pool_size=(2,2),strides=(2,2)))\n",
    "\n",
    "#Conv Layer-3\n",
    "model.add(Conv2D(120,kernel_size=5,activation='relu'))\n",
    "model.add(Flatten())\n",
    "\n",
    "#Fully Connected Layer-1\n",
    "model.add(Dense(84,activation='relu'))\n",
    "\n",
    "#Softmax\n",
    "model.add(Dense(10,activation='softmax'))\n"
   ]
  },
  {
   "cell_type": "code",
   "execution_count": 67,
   "metadata": {},
   "outputs": [
    {
     "name": "stdout",
     "output_type": "stream",
     "text": [
      "Model: \"sequential_19\"\n",
      "_________________________________________________________________\n",
      "Layer (type)                 Output Shape              Param #   \n",
      "=================================================================\n",
      "conv2d_39 (Conv2D)           (None, 28, 28, 6)         156       \n",
      "_________________________________________________________________\n",
      "max_pooling2d_23 (MaxPooling (None, 14, 14, 6)         0         \n",
      "_________________________________________________________________\n",
      "conv2d_40 (Conv2D)           (None, 10, 10, 16)        2416      \n",
      "_________________________________________________________________\n",
      "max_pooling2d_24 (MaxPooling (None, 5, 5, 16)          0         \n",
      "_________________________________________________________________\n",
      "conv2d_41 (Conv2D)           (None, 1, 1, 120)         48120     \n",
      "_________________________________________________________________\n",
      "flatten_4 (Flatten)          (None, 120)               0         \n",
      "_________________________________________________________________\n",
      "dense_23 (Dense)             (None, 84)                10164     \n",
      "_________________________________________________________________\n",
      "dense_24 (Dense)             (None, 10)                850       \n",
      "=================================================================\n",
      "Total params: 61,706\n",
      "Trainable params: 61,706\n",
      "Non-trainable params: 0\n",
      "_________________________________________________________________\n"
     ]
    }
   ],
   "source": [
    "model.summary()"
   ]
  },
  {
   "cell_type": "code",
   "execution_count": 68,
   "metadata": {},
   "outputs": [],
   "source": [
    "model.compile(optimizer='adam',loss='categorical_crossentropy',metrics=['accuracy'])"
   ]
  },
  {
   "cell_type": "code",
   "execution_count": 69,
   "metadata": {},
   "outputs": [
    {
     "name": "stdout",
     "output_type": "stream",
     "text": [
      "Train on 60000 samples, validate on 10000 samples\n",
      "Epoch 1/20\n",
      "60000/60000 [==============================] - 18s 304us/step - loss: 0.4352 - accuracy: 0.8730 - val_loss: 0.1249 - val_accuracy: 0.9616\n",
      "Epoch 2/20\n",
      "60000/60000 [==============================] - 19s 315us/step - loss: 0.1000 - accuracy: 0.9700 - val_loss: 0.0683 - val_accuracy: 0.9793\n",
      "Epoch 3/20\n",
      "60000/60000 [==============================] - 19s 313us/step - loss: 0.0687 - accuracy: 0.9787 - val_loss: 0.0541 - val_accuracy: 0.9819\n",
      "Epoch 4/20\n",
      "60000/60000 [==============================] - 19s 318us/step - loss: 0.0534 - accuracy: 0.9831 - val_loss: 0.0461 - val_accuracy: 0.9857\n",
      "Epoch 5/20\n",
      "60000/60000 [==============================] - 20s 330us/step - loss: 0.0449 - accuracy: 0.9864 - val_loss: 0.0395 - val_accuracy: 0.9880\n",
      "Epoch 6/20\n",
      "60000/60000 [==============================] - 19s 315us/step - loss: 0.0377 - accuracy: 0.9884 - val_loss: 0.0374 - val_accuracy: 0.9876\n",
      "Epoch 7/20\n",
      "60000/60000 [==============================] - 19s 318us/step - loss: 0.0330 - accuracy: 0.9900 - val_loss: 0.0327 - val_accuracy: 0.9895\n",
      "Epoch 8/20\n",
      "60000/60000 [==============================] - 19s 318us/step - loss: 0.0292 - accuracy: 0.9908 - val_loss: 0.0357 - val_accuracy: 0.9886\n",
      "Epoch 9/20\n",
      "60000/60000 [==============================] - 19s 323us/step - loss: 0.0255 - accuracy: 0.9922 - val_loss: 0.0343 - val_accuracy: 0.9894\n",
      "Epoch 10/20\n",
      "60000/60000 [==============================] - 19s 315us/step - loss: 0.0226 - accuracy: 0.9929 - val_loss: 0.0271 - val_accuracy: 0.9908\n",
      "Epoch 11/20\n",
      "60000/60000 [==============================] - 20s 329us/step - loss: 0.0207 - accuracy: 0.9933 - val_loss: 0.0296 - val_accuracy: 0.9902\n",
      "Epoch 12/20\n",
      "60000/60000 [==============================] - 19s 318us/step - loss: 0.0182 - accuracy: 0.9941 - val_loss: 0.0370 - val_accuracy: 0.9895\n",
      "Epoch 13/20\n",
      "60000/60000 [==============================] - 19s 319us/step - loss: 0.0160 - accuracy: 0.9945 - val_loss: 0.0300 - val_accuracy: 0.9905\n",
      "Epoch 14/20\n",
      "60000/60000 [==============================] - 19s 323us/step - loss: 0.0168 - accuracy: 0.9944 - val_loss: 0.0283 - val_accuracy: 0.9911\n",
      "Epoch 15/20\n",
      "60000/60000 [==============================] - 19s 316us/step - loss: 0.0126 - accuracy: 0.9956 - val_loss: 0.0333 - val_accuracy: 0.9896\n",
      "Epoch 16/20\n",
      "60000/60000 [==============================] - 19s 323us/step - loss: 0.0126 - accuracy: 0.9959 - val_loss: 0.0376 - val_accuracy: 0.9885\n",
      "Epoch 17/20\n",
      "60000/60000 [==============================] - 19s 324us/step - loss: 0.0107 - accuracy: 0.9966 - val_loss: 0.0291 - val_accuracy: 0.9913\n",
      "Epoch 18/20\n",
      "60000/60000 [==============================] - 19s 319us/step - loss: 0.0116 - accuracy: 0.9961 - val_loss: 0.0434 - val_accuracy: 0.9870\n",
      "Epoch 19/20\n",
      "60000/60000 [==============================] - 20s 328us/step - loss: 0.0086 - accuracy: 0.9973 - val_loss: 0.0390 - val_accuracy: 0.9877\n",
      "Epoch 20/20\n",
      "60000/60000 [==============================] - 19s 318us/step - loss: 0.0092 - accuracy: 0.9968 - val_loss: 0.0364 - val_accuracy: 0.9892\n"
     ]
    }
   ],
   "source": [
    "history=model.fit(X_train,Y_train,batch_size=batch_size,epochs=epochs,validation_data=(X_test,Y_test))"
   ]
  },
  {
   "cell_type": "code",
   "execution_count": 70,
   "metadata": {},
   "outputs": [
    {
     "name": "stdout",
     "output_type": "stream",
     "text": [
      "10000/10000 [==============================] - 2s 168us/step\n",
      "Score 0.03642255164982867\n",
      "Accuracy 0.9891999959945679\n"
     ]
    }
   ],
   "source": [
    "pred=model.evaluate(X_test,Y_test)\n",
    "print(\"Score\",pred[0])\n",
    "print(\"Accuracy\",pred[1])"
   ]
  },
  {
   "cell_type": "code",
   "execution_count": 72,
   "metadata": {},
   "outputs": [
    {
     "data": {
      "image/png": "[encoded data removed]",
      "text/plain": [
       "<Figure size 432x288 with 1 Axes>"
      ]
     },
     "metadata": {
      "needs_background": "light"
     },
     "output_type": "display_data"
    }
   ],
   "source": [
    "import matplotlib.pyplot as plt\n",
    "fig,ax=plt.subplots(1,1)\n",
    "ax.set_xlabel('epoch')\n",
    "ax.set_ylabel('loss')\n",
    "\n",
    "x=list(range(1,epochs+1))\n",
    "\n",
    "vy=history.history['val_loss']\n",
    "ty=history.history['loss']\n",
    "\n",
    "def plt_dynamic(x,y,y_1,ax,colors=['b']):\n",
    "    ax.plot(x,y,'b',label='Train loss')\n",
    "    ax.plot(x,y_1,'r',label='Test loss')\n",
    "    plt.legend()\n",
    "    fig.canvas.draw()\n",
    "plt_dynamic(x,vy,ty,ax)"
   ]
  },
  {
   "cell_type": "code",
   "execution_count": null,
   "metadata": {},
   "outputs": [],
   "source": []
  }
 ],
 "metadata": {
  "kernelspec": {
   "display_name": "Python 3",
   "language": "python",
   "name": "python3"
  },
  "language_info": {
   "codemirror_mode": {
    "name": "ipython",
    "version": 3
   },
   "file_extension": ".py",
   "mimetype": "text/x-python",
   "name": "python",
   "nbconvert_exporter": "python",
   "pygments_lexer": "ipython3",
   "version": "3.7.3"
  }
 },
 "nbformat": 4,
 "nbformat_minor": 2
}
